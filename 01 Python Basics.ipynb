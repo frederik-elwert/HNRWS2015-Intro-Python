{
 "cells": [
  {
   "cell_type": "markdown",
   "metadata": {},
   "source": [
    "# Python Basics\n",
    "\n",
    "Python is a programming language. This means that you give commands that a computer understands, and the computer will execute those commands. Most (but [not all](https://scratch.mit.edu/)) programming languages are text-based: You type your commands. Computers are polyglots: They can understand multiple languages, one if which is Python."
   ]
  },
  {
   "cell_type": "markdown",
   "metadata": {},
   "source": [
    "## Commands\n",
    "\n",
    "In their simplest form, commands in Python have the form `verb(object)`. So a basic command looks like this:"
   ]
  },
  {
   "cell_type": "code",
   "execution_count": 1,
   "metadata": {},
   "outputs": [
    {
     "name": "stdout",
     "output_type": "stream",
     "text": [
      "Hello World!\n"
     ]
    }
   ],
   "source": [
    "print('Hello World!')"
   ]
  },
  {
   "cell_type": "markdown",
   "metadata": {},
   "source": [
    "Here, `print` is the verb, the instruction what the computer should do. `'Hello World!'` is the object, the text that the computer should print. Some commands do not require an object:"
   ]
  },
  {
   "cell_type": "code",
   "execution_count": 2,
   "metadata": {},
   "outputs": [
    {
     "name": "stdout",
     "output_type": "stream",
     "text": [
      "    Thanks to CWI, CNRI, BeOpen.com, Zope Corporation and a cast of thousands\n",
      "    for supporting Python development.  See www.python.org for more information.\n"
     ]
    }
   ],
   "source": [
    "credits()"
   ]
  },
  {
   "cell_type": "markdown",
   "metadata": {},
   "source": [
    "And some can take multiple objects:"
   ]
  },
  {
   "cell_type": "code",
   "execution_count": 3,
   "metadata": {},
   "outputs": [
    {
     "data": {
      "text/plain": [
       "3.14"
      ]
     },
     "execution_count": 3,
     "metadata": {},
     "output_type": "execute_result"
    }
   ],
   "source": [
    "round(3.14159, 2)"
   ]
  },
  {
   "cell_type": "markdown",
   "metadata": {},
   "source": [
    "These commands are called “functions.” Some commands also include a subject in the form of `subject.verb(object)`. They are called “methods” (of the subject, which confusingly is called “object” in Python)."
   ]
  },
  {
   "cell_type": "code",
   "execution_count": 4,
   "metadata": {},
   "outputs": [
    {
     "data": {
      "text/plain": [
       "'Hollo World!'"
      ]
     },
     "execution_count": 4,
     "metadata": {},
     "output_type": "execute_result"
    }
   ],
   "source": [
    "'Hello World!'.replace('e', 'o')"
   ]
  },
  {
   "cell_type": "markdown",
   "metadata": {},
   "source": [
    "## Types of data\n",
    "\n",
    "When using Python for humanities research, one of the most important aspects is working with data. The task that David Mimno calls [data carpentry](http://www.mimno.org/articles/carpentry/) comprises getting data, cleaning data, enrichting data, and converting data from one form into another. Most of this can be done manually in principle, but it is mostly time consuming routine work that is not intellectually challenging. So it is a good task for a computer.\n",
    "\n",
    "Before we deal with data formats commonly used in the humanities, we should learn a bit about data types in Python. We already learned about three important data types: “String,” which basically means “text”, “integer,” and “float,” which both are numbers, but one can contain fractions. The quotes (both `'` and `\"` work) distinguish text from numbers, the decimal point distinguishes integers from floats. The distinction is important, since some functions and methods work only with certain types of data, or they behave differently. Take this example:"
   ]
  },
  {
   "cell_type": "code",
   "execution_count": 5,
   "metadata": {},
   "outputs": [
    {
     "data": {
      "text/plain": [
       "6"
      ]
     },
     "execution_count": 5,
     "metadata": {},
     "output_type": "execute_result"
    }
   ],
   "source": [
    "3 + 3"
   ]
  },
  {
   "cell_type": "code",
   "execution_count": 6,
   "metadata": {},
   "outputs": [
    {
     "data": {
      "text/plain": [
       "'33'"
      ]
     },
     "execution_count": 6,
     "metadata": {},
     "output_type": "execute_result"
    }
   ],
   "source": [
    "'3' + '3'"
   ]
  },
  {
   "cell_type": "markdown",
   "metadata": {},
   "source": [
    "Fortunately, we can convert data from one type to another:"
   ]
  },
  {
   "cell_type": "code",
   "execution_count": 7,
   "metadata": {},
   "outputs": [
    {
     "data": {
      "text/plain": [
       "6"
      ]
     },
     "execution_count": 7,
     "metadata": {},
     "output_type": "execute_result"
    }
   ],
   "source": [
    "3 + int('3')"
   ]
  },
  {
   "cell_type": "code",
   "execution_count": 8,
   "metadata": {},
   "outputs": [
    {
     "data": {
      "text/plain": [
       "'33'"
      ]
     },
     "execution_count": 8,
     "metadata": {},
     "output_type": "execute_result"
    }
   ],
   "source": [
    "str(3) + '3'"
   ]
  },
  {
   "cell_type": "markdown",
   "metadata": {},
   "source": [
    "*Note:* In this example, I use `'` to mark strings. If a sentence contains `'` as a normal character, one can use `\"`:\n",
    "\n",
    "```python\n",
    "\"Isn't this nice\"\n",
    "```\n",
    "\n",
    "If a text contains both `'` and `\"`, one can use three quotes, i.e. either `'''` or `\"\"\"`, to mark strings:\n",
    "\n",
    "```python\n",
    "'''He said: \"Isn't this nice?\"'''\n",
    "```"
   ]
  },
  {
   "cell_type": "markdown",
   "metadata": {},
   "source": [
    "## Variables and Functions\n",
    "\n",
    "Usually, we want our commands not to work only for given data, but for any data that we might work with. This is why we usually work with placeholders, called variables, rather than with fixed values. That’s why we learned to work with “functions” in math: $3^2 = 9$ is rather specific, while $f(x) = x^2$ works for any value of $x$. We can use the same principle. Instead of this:"
   ]
  },
  {
   "cell_type": "code",
   "execution_count": 9,
   "metadata": {},
   "outputs": [
    {
     "data": {
      "text/plain": [
       "'Hello World!'"
      ]
     },
     "execution_count": 9,
     "metadata": {},
     "output_type": "execute_result"
    }
   ],
   "source": [
    "'Hello ' + 'World' + '!'"
   ]
  },
  {
   "cell_type": "markdown",
   "metadata": {},
   "source": [
    "we can write this:"
   ]
  },
  {
   "cell_type": "code",
   "execution_count": 10,
   "metadata": {},
   "outputs": [
    {
     "data": {
      "text/plain": [
       "'Hello Frederik!'"
      ]
     },
     "execution_count": 10,
     "metadata": {},
     "output_type": "execute_result"
    }
   ],
   "source": [
    "name = 'Frederik'\n",
    "\n",
    "'Hello ' + name + '!'"
   ]
  },
  {
   "cell_type": "markdown",
   "metadata": {},
   "source": [
    "In our code, whe replace the parts that can change by a variable, in this case `name`. In order to run our code with a different value, we only need to change the variable and can leave the rest of our code intact."
   ]
  },
  {
   "cell_type": "code",
   "execution_count": 11,
   "metadata": {},
   "outputs": [
    {
     "data": {
      "text/plain": [
       "'Hello Sarah!'"
      ]
     },
     "execution_count": 11,
     "metadata": {},
     "output_type": "execute_result"
    }
   ],
   "source": [
    "name = 'Sarah'\n",
    "\n",
    "'Hello ' + name + '!'"
   ]
  },
  {
   "cell_type": "markdown",
   "metadata": {},
   "source": [
    "Now we still had to copy and paste the actual code, even though we did not change it. Copy and paste is a bad thing: If we improve our code, we have to copy and paste the improved version all over the place. So we should use a function that we write once and that we can use several times. $f(x) = x^2$ is a function, and in Python, it would look like this:"
   ]
  },
  {
   "cell_type": "code",
   "execution_count": 12,
   "metadata": {},
   "outputs": [],
   "source": [
    "def f(x):\n",
    "    return x**2"
   ]
  },
  {
   "cell_type": "markdown",
   "metadata": {},
   "source": [
    "In Python, in contrast to many other languages, space is important information. The indentation of the second line is a signal: This part belongs to the definition of the function. So this is not the same like\n",
    "\n",
    "```python\n",
    "def f(x):\n",
    "return x**2\n",
    "```\n",
    "\n",
    "It is a convention to always use four spaces for indentation, but in many editors (and in a Python notebook), you can simply press the Tab button: ↹\n",
    "\n",
    "Now we can call this function with different values of $x$:"
   ]
  },
  {
   "cell_type": "code",
   "execution_count": 13,
   "metadata": {},
   "outputs": [
    {
     "data": {
      "text/plain": [
       "9"
      ]
     },
     "execution_count": 13,
     "metadata": {},
     "output_type": "execute_result"
    }
   ],
   "source": [
    "f(3)"
   ]
  },
  {
   "cell_type": "code",
   "execution_count": 14,
   "metadata": {},
   "outputs": [
    {
     "data": {
      "text/plain": [
       "16"
      ]
     },
     "execution_count": 14,
     "metadata": {},
     "output_type": "execute_result"
    }
   ],
   "source": [
    "f(4)"
   ]
  },
  {
   "cell_type": "markdown",
   "metadata": {},
   "source": [
    "We’re not mathematicians, but we can use the same principle:"
   ]
  },
  {
   "cell_type": "code",
   "execution_count": 15,
   "metadata": {},
   "outputs": [
    {
     "data": {
      "text/plain": [
       "'Hello hackers!'"
      ]
     },
     "execution_count": 15,
     "metadata": {},
     "output_type": "execute_result"
    }
   ],
   "source": [
    "def hello(name):\n",
    "    return 'Hello ' + name + '!'\n",
    "\n",
    "hello('hackers')"
   ]
  },
  {
   "cell_type": "markdown",
   "metadata": {},
   "source": [
    "### Task\n",
    "\n",
    "Write a function that notifies you of new e-mails. Use the template below and complete it."
   ]
  },
  {
   "cell_type": "code",
   "execution_count": 16,
   "metadata": {},
   "outputs": [],
   "source": [
    "def new_mail(name, number):\n",
    "    return ''"
   ]
  },
  {
   "cell_type": "markdown",
   "metadata": {},
   "source": [
    "The result should be this:"
   ]
  },
  {
   "cell_type": "code",
   "execution_count": 17,
   "metadata": {},
   "outputs": [
    {
     "data": {
      "text/plain": [
       "''"
      ]
     },
     "execution_count": 17,
     "metadata": {},
     "output_type": "execute_result"
    }
   ],
   "source": [
    "new_mail('Frederik', 3)  # => 'Hello Frederik, you have 3 new e-mails.'"
   ]
  },
  {
   "cell_type": "markdown",
   "metadata": {},
   "source": [
    "## Complex data types\n",
    "\n",
    "Often, we don’t have single values, but rather lists of values: Texts are lists of words, columns in a spreadsheet are lists of values, etc. In Python, we can group multiple single values in containers:"
   ]
  },
  {
   "cell_type": "code",
   "execution_count": 18,
   "metadata": {
    "collapsed": true
   },
   "outputs": [],
   "source": [
    "names = ['Maja', 'Willi', 'Flip']"
   ]
  },
  {
   "cell_type": "markdown",
   "metadata": {},
   "source": [
    "Each element in the list has an “address.” In Python, counting starts at zero, which can be confusing in the beginning. Knowing that, the address of the first name is `0`. So you can get the first element like this:"
   ]
  },
  {
   "cell_type": "code",
   "execution_count": 19,
   "metadata": {},
   "outputs": [
    {
     "data": {
      "text/plain": [
       "'Maja'"
      ]
     },
     "execution_count": 19,
     "metadata": {},
     "output_type": "execute_result"
    }
   ],
   "source": [
    "names[0]"
   ]
  },
  {
   "cell_type": "markdown",
   "metadata": {},
   "source": [
    "So how to get the last name? Since the number of elements could can change, it is better not just to use `2` to get the third element (starts from 0, remember?), but to determine its position dynamically. First, you need to know how long the list is, then you can get the element."
   ]
  },
  {
   "cell_type": "code",
   "execution_count": 20,
   "metadata": {},
   "outputs": [
    {
     "data": {
      "text/plain": [
       "3"
      ]
     },
     "execution_count": 20,
     "metadata": {},
     "output_type": "execute_result"
    }
   ],
   "source": [
    "len(names)"
   ]
  },
  {
   "cell_type": "code",
   "execution_count": 21,
   "metadata": {},
   "outputs": [
    {
     "data": {
      "text/plain": [
       "'Flip'"
      ]
     },
     "execution_count": 21,
     "metadata": {},
     "output_type": "execute_result"
    }
   ],
   "source": [
    "length = len(names)\n",
    "last = length - 1  # Why -1? Because 0-based indexing!\n",
    "names[last]"
   ]
  },
  {
   "cell_type": "markdown",
   "metadata": {},
   "source": [
    "You can also mix all the commands in one line. While it sometimes makes sense to be shorter, be careful not to create too complex code that you don’t understand after a day or so!"
   ]
  },
  {
   "cell_type": "code",
   "execution_count": 22,
   "metadata": {},
   "outputs": [
    {
     "data": {
      "text/plain": [
       "'Flip'"
      ]
     },
     "execution_count": 22,
     "metadata": {},
     "output_type": "execute_result"
    }
   ],
   "source": [
    "names[len(names) - 1]"
   ]
  },
  {
   "cell_type": "markdown",
   "metadata": {},
   "source": [
    "In fact, there is a shorter, but less readable way to get the last element: You can count backwards from the end."
   ]
  },
  {
   "cell_type": "code",
   "execution_count": 23,
   "metadata": {},
   "outputs": [
    {
     "data": {
      "text/plain": [
       "'Flip'"
      ]
     },
     "execution_count": 23,
     "metadata": {},
     "output_type": "execute_result"
    }
   ],
   "source": [
    "names[-1]"
   ]
  },
  {
   "cell_type": "markdown",
   "metadata": {},
   "source": [
    "A second important container type is a dictionary. A dictionary contains information about an entry:"
   ]
  },
  {
   "cell_type": "code",
   "execution_count": 24,
   "metadata": {
    "collapsed": true
   },
   "outputs": [],
   "source": [
    "animals = {'Maja': 'bee',\n",
    "           'Willi': 'bee',\n",
    "           'Flip': 'grasshopper'}"
   ]
  },
  {
   "cell_type": "markdown",
   "metadata": {},
   "source": [
    "In a dictionary, the address for an element is not its position, but the dictionary entry or key:"
   ]
  },
  {
   "cell_type": "code",
   "execution_count": 25,
   "metadata": {},
   "outputs": [
    {
     "data": {
      "text/plain": [
       "'bee'"
      ]
     },
     "execution_count": 25,
     "metadata": {},
     "output_type": "execute_result"
    }
   ],
   "source": [
    "animals['Maja']"
   ]
  },
  {
   "cell_type": "code",
   "execution_count": 26,
   "metadata": {},
   "outputs": [
    {
     "data": {
      "text/plain": [
       "'Hello Flip, you are a grasshopper!'"
      ]
     },
     "execution_count": 26,
     "metadata": {},
     "output_type": "execute_result"
    }
   ],
   "source": [
    "def hello(name):\n",
    "    return 'Hello ' + name + ', you are a ' + animals[name] + '!'\n",
    "\n",
    "hello('Flip')"
   ]
  },
  {
   "cell_type": "markdown",
   "metadata": {},
   "source": [
    "## Control flow\n",
    "\n",
    "### Loops\n",
    "\n",
    "Working with lists and similar sequence types is often handy. One of the main possibilities when writing code is to repeat a task. Usually, we want to do something not only once, but several times. And this often depends on the number of items we deal with, e.g. read the title of each file in a folder. This way of repeating a task is called a loop. In a loop, we do something ***for*** every item ***in*** a list:"
   ]
  },
  {
   "cell_type": "code",
   "execution_count": 27,
   "metadata": {},
   "outputs": [
    {
     "name": "stdout",
     "output_type": "stream",
     "text": [
      "Hello Maja!\n",
      "Hello Willi!\n",
      "Hello Flip!\n"
     ]
    }
   ],
   "source": [
    "for name in names:\n",
    "    print('Hello ' + name + '!')"
   ]
  },
  {
   "cell_type": "markdown",
   "metadata": {},
   "source": [
    "In this case, `name` is a variable which you can choose freely. Every time the code is called again, the variable `name` gets a new value, until all values in the list have been dealt with.\n",
    "\n",
    "In case you need to know in which loop you are, you can enumerate your list:"
   ]
  },
  {
   "cell_type": "code",
   "execution_count": 28,
   "metadata": {},
   "outputs": [
    {
     "name": "stdout",
     "output_type": "stream",
     "text": [
      "1. Maja\n",
      "2. Willi\n",
      "3. Flip\n"
     ]
    }
   ],
   "source": [
    "for i, name in enumerate(names, start=1):  # Otherwise, it would start with 0 again, which is less pretty.\n",
    "    print(str(i) + '. ' + name)"
   ]
  },
  {
   "cell_type": "markdown",
   "metadata": {},
   "source": [
    "Here, we have two variables: The name, but also a counter that tells us the number of the loop. It often gets called `i` (like the index in $\\mbox{names}_{i}$), but you can call it anything you want. Just remember that it is an integer, so you have to convert it before you can add it to a string."
   ]
  },
  {
   "cell_type": "markdown",
   "metadata": {},
   "source": [
    "### Conditions\n",
    "\n",
    "A second important tool when writing code are conditions: Sometimes, you only want to execute some code only ***if*** a certain condition is met."
   ]
  },
  {
   "cell_type": "code",
   "execution_count": 29,
   "metadata": {},
   "outputs": [
    {
     "name": "stdout",
     "output_type": "stream",
     "text": [
      "I see, there are three of you.\n"
     ]
    }
   ],
   "source": [
    "if len(names) == 2:\n",
    "    print('I see, there are two of you.')\n",
    "if len(names) == 3:\n",
    "    print('I see, there are three of you.')\n",
    "if len(names) == 4:\n",
    "    print('I see, there are four of you.')"
   ]
  },
  {
   "cell_type": "markdown",
   "metadata": {},
   "source": [
    "An `if` clause can also be combined with an `else` clause that is executed if the condition is ***not*** met:"
   ]
  },
  {
   "cell_type": "code",
   "execution_count": 30,
   "metadata": {},
   "outputs": [
    {
     "name": "stdout",
     "output_type": "stream",
     "text": [
      "Somebody there.\n"
     ]
    }
   ],
   "source": [
    "if len(names) == 0:\n",
    "    print('Nobody there.')\n",
    "else:\n",
    "    print('Somebody there.')"
   ]
  },
  {
   "cell_type": "markdown",
   "metadata": {},
   "source": [
    "The `==` is used to check if two values are the same. Since the single `=` is already used to assign a value to a variable, it cannot be used for comparisons. Other types of comparisons are `<` (smaller than), `>` (larger than), `<=` (smaller or equal), `>=` (larger or equal), and `!=` (not equal)."
   ]
  },
  {
   "cell_type": "code",
   "execution_count": 31,
   "metadata": {},
   "outputs": [
    {
     "name": "stdout",
     "output_type": "stream",
     "text": [
      "You are a group!\n",
      "Your are a couple!\n"
     ]
    }
   ],
   "source": [
    "if len(names) < 1:\n",
    "    print('Where is everybody?')\n",
    "if len(names) == 1:\n",
    "    print('You are alone!')\n",
    "if len(names) >= 3:\n",
    "    print('You are a group!')\n",
    "if len(names) > 1:\n",
    "    print('Your are a couple!')"
   ]
  },
  {
   "cell_type": "markdown",
   "metadata": {},
   "source": [
    "Usually, we want to execute only one block, so we can ensure we stop at the first condition that is met. This can be achieved by the ***else-if*** statement `elif`:"
   ]
  },
  {
   "cell_type": "code",
   "execution_count": 32,
   "metadata": {},
   "outputs": [
    {
     "name": "stdout",
     "output_type": "stream",
     "text": [
      "You are a group!\n"
     ]
    }
   ],
   "source": [
    "if len(names) < 1:\n",
    "    print('Where is everybody?')\n",
    "elif len(names) == 1:\n",
    "    print('You are alone!')\n",
    "elif len(names) >= 3:\n",
    "    print('You are a group!')\n",
    "elif len(names) > 1:\n",
    "    print('Your are a couple!')"
   ]
  },
  {
   "cell_type": "markdown",
   "metadata": {},
   "source": [
    "We can also combine loops and conditions. If you nest multiple blocks like loops or conditions, you just have to indent the inner block more:"
   ]
  },
  {
   "cell_type": "code",
   "execution_count": 33,
   "metadata": {},
   "outputs": [
    {
     "name": "stdout",
     "output_type": "stream",
     "text": [
      "Welcome, Maja!\n",
      "Welcome, Willi!\n",
      "Only bees, please!\n"
     ]
    }
   ],
   "source": [
    "for name in names:\n",
    "    if animals[name] == 'bee':\n",
    "        print('Welcome, ' + name + '!')\n",
    "    else:\n",
    "        print('Only bees, please!')"
   ]
  },
  {
   "cell_type": "markdown",
   "metadata": {},
   "source": [
    "### Task\n",
    "\n",
    "Now write a combination of a loop and conditional statements so that your code prints a nicer greeting compared to our original one:\n",
    "\n",
    "    Hello Maja,\n",
    "    hello Willi,\n",
    "    hello Flip!"
   ]
  },
  {
   "cell_type": "code",
   "execution_count": 34,
   "metadata": {
    "collapsed": true
   },
   "outputs": [],
   "source": [
    "# Enter your code here."
   ]
  }
 ],
 "metadata": {
  "anaconda-cloud": {},
  "kernelspec": {
   "display_name": "Python 3",
   "language": "python",
   "name": "python3"
  },
  "language_info": {
   "codemirror_mode": {
    "name": "ipython",
    "version": 3
   },
   "file_extension": ".py",
   "mimetype": "text/x-python",
   "name": "python",
   "nbconvert_exporter": "python",
   "pygments_lexer": "ipython3",
   "version": "3.6.6"
  }
 },
 "nbformat": 4,
 "nbformat_minor": 2
}
